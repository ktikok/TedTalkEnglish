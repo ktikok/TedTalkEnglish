{
 "cells": [
  {
   "cell_type": "code",
   "execution_count": 1,
   "metadata": {
    "id": "e2dOSPwO9gJE",
    "outputId": "69609bff-5c2e-47b7-b900-ab5af3bee274"
   },
   "outputs": [
    {
     "name": "stdout",
     "output_type": "stream",
     "text": [
      "open linux broswer\n",
      "open utf8 file\n",
      "clicking title\n",
      "Title : 우울증은 뭔가요? |헬렌 엠 페럴(Helen M. Farrell)\n",
      "Waiting for webpage(I will click \"transcript\")\n",
      "options are located on the right side of the webpage\n"
     ]
    }
   ],
   "source": [
    "# -*- coding: utf-8 -*-\n",
    "\"\"\"\n",
    "Created in 2018\n",
    "\n",
    "@author: tikim\n",
    "\"\"\"\n",
    "\"\"\"\n",
    "Spyder Editor\n",
    "\n",
    "This is a temporary script file.\n",
    "\"\"\"\n",
    "\n",
    "\"\"\"\n",
    "2021.07.06\n",
    "this file is tested on Ubuntu\n",
    "1. 원래는 영어 자막을 클릭했지만, select에서 옵션을 선택하는 것으로 바꿨다.\n",
    "\"\"\"\n",
    "\n",
    "from selenium import webdriver\n",
    "from selenium.webdriver.support.select import Select\n",
    "\n",
    "import time\n",
    "# for time sleep\n",
    "\n",
    "from selenium.webdriver.common.keys import Keys\n",
    "# to scroll up a webpage\n",
    "\n",
    "# dictation letters\n",
    "special_symbal=[]\n",
    "for i in range(65,91):\n",
    "    special_symbal.append(chr(i))\n",
    "    # capital letters A-Z\n",
    "for i in range(97,123):\n",
    "    special_symbal.append(chr(i))\n",
    "    # a-z\n",
    "\n",
    "try:\n",
    "    browser=webdriver.Chrome('chromedriver_linux64/chromedriver')\n",
    "    print('open linux broswer')\n",
    "    # for ubuntu\n",
    "except:\n",
    "    browser=webdriver.Chrome('chromedriver_win32\\chromedriver.exe')\n",
    "    print('open windows broswer')\n",
    "    # for windows\n",
    "browser.maximize_window()\n",
    "# 브라우저 창을 최대로\n",
    "browser.get('https://www.ted.com/talks?sort=popular&duration=0-6&language=ko')\n",
    "# &language=ko&duration=0-6, popular\n",
    "\n",
    "\n",
    "# bring my finished video titles\n",
    "try:\n",
    "    with open('finished_videos.txt', encoding='utf-8') as f:\n",
    "        # for windows and linux os\n",
    "        f_list=f.readlines()\n",
    "        print('open utf8 file')\n",
    "        #print(f_list[0])\n",
    "except: \n",
    "    with open('finished_videos.txt', encoding='cp949') as f:\n",
    "        f_list=f.readlines()\n",
    "        print('open linux file')\n",
    "        #print(f_list)   \n",
    "\n",
    "\n",
    "for i in range(1,999):\n",
    "    title = browser.find_element_by_xpath('//*[@id=\"browse-results\"]/div[1]/div['+str(i)+']/div/div/div/div[2]/h4[2]/a').text\n",
    "    #print('i1 :',i)    \n",
    "    if title+'\\n' not in f_list:\n",
    "        #print('X')\n",
    "        # check if I have already finished the video or not \n",
    "        try:\n",
    "            browser.find_element_by_xpath('//*[@id=\"browse-results\"]/div[1]/div['+str(i)+']/div/div/div/div[2]/h4[2]/a').click()\n",
    "            print('clicking title')\n",
    "            # my laptop title\n",
    "            # //*[@id=\"browse-results\"]/div[1]/div[6]/div/div/div/div[2]/h4[2]/a \n",
    "            # picture\n",
    "            # //*[@id=\"browse-results\"]/div[1]/div[6]/div/div/div/div[1]/a/span/span[1]/span/img\n",
    "            # picture link\n",
    "            # //*[@id=\"browse-results\"]/div[1]/div[6]/div/div/div/div[1]/a\n",
    "            break\n",
    "        except:\n",
    "            for j in range(10):\n",
    "                time.sleep(1)\n",
    "                try:\n",
    "                    browser.find_element_by_xpath('//*[@id=\"browse-results\"]/div[1]/div['+str(i)+']/div/div/div/div[1]/a').click()\n",
    "                    print('clicking picture')\n",
    "                    # my laptop\n",
    "                    # //*[@id=\"browse-results\"]/div[1]/div[5]/div/div/div/div[2]/h4[2]/a\n",
    "                    break        \n",
    "                except:\n",
    "                    pass\n",
    "            break\n",
    "            #print('i2 :',i)\n",
    "print('Title :',title)\n",
    "\n",
    "# print(f_list[0])\n",
    "# print(title)\n",
    "# print(f_list[0]==title+'\\n')\n",
    "# click transcript\n",
    "for i in range(10): # wait total 10 sec\n",
    "    try:\n",
    "        browser.find_element_by_xpath('//*[@id=\"content\"]/div/div[4]/div[1]/div/a[3]').click()\n",
    "        # If there are theree options\n",
    "        print('there are three options')\n",
    "        break\n",
    "    except:\n",
    "        try:\n",
    "            browser.find_element_by_xpath('//*[@id=\"content\"]/div/div[4]/div[1]/div/a[2]/span[1]').click()\n",
    "            # if there are two options : details, transicript\n",
    "            print('there are two options')\n",
    "            break\n",
    "        except:\n",
    "            try:\n",
    "                browser.find_element_by_xpath('//*[@id=\"tabs--1--tab--1\"]/span').click()\n",
    "                # if the pane is located on the left\n",
    "                print('options are located on the right side of the webpage')\n",
    "                break\n",
    "            except:\n",
    "                try:\n",
    "                    browser.find_element_by_xpath('//*[@id=\"maincontent\"]/div/div/div/div/div[2]/div[3]/div[2]/button').click()\n",
    "                    # if the pane is located on the right\n",
    "                    print('options are located on the right side of the webpage')\n",
    "                    break\n",
    "                except:\n",
    "                    print('Waiting for webpage(I will click \"transcript\")')\n",
    "                    time.sleep(1)\n",
    "                    # sometimes, loading elements takes long time.\n",
    "\n",
    "select_element = browser.find_element_by_xpath('//*[@id=\"maincontent\"]/div/div/div/aside/div[2]/div[2]/div/div/div[1]/div[2]/div[1]/div/select') #full\n",
    "# 목차 가져오기\n",
    "\n",
    "select_object = Select(select_element)\n",
    "select_object.select_by_visible_text('English')\n",
    "# 영어 선택하기\n",
    "\n",
    "# ted changed it's defalt value to off. If you need to turn of subtitles manualy, you need to use this code.\n",
    "# for i in range(10):\n",
    "#     try:\n",
    "#         browser.find_element_by_xpath('//*[@id=\"ted-player\"]/div[4]/div/div/div[2]/div/div[5]/button').click()\n",
    "#         break\n",
    "#     except:\n",
    "#         print('loading for subtitle controls')\n",
    "#         time.sleep(1)\n",
    "#         # click subtitle controls\n",
    "# browser.find_element_by_xpath('/html/body/div[3]/div/div/div/div[2]/div/div[1]/button').click()\n",
    "# # click 'off'\n",
    "# browser.find_element_by_xpath('/html/body/div[3]/div/div/div/div[1]/div/button').click()\n",
    "# # click 'x'\n"
   ]
  },
  {
   "cell_type": "code",
   "execution_count": 4,
   "metadata": {},
   "outputs": [],
   "source": [
    "english_sentences=browser.find_elements_by_xpath('//*[@id=\"maincontent\"]/div/div/div/aside/div[2]/div[2]/div/div/div[1]/div[3]/div/span/span') "
   ]
  },
  {
   "cell_type": "code",
   "execution_count": 5,
   "metadata": {},
   "outputs": [
    {
     "data": {
      "text/plain": [
       "93"
      ]
     },
     "execution_count": 5,
     "metadata": {},
     "output_type": "execute_result"
    }
   ],
   "source": [
    "len(english_sentences)"
   ]
  },
  {
   "cell_type": "code",
   "execution_count": 6,
   "metadata": {},
   "outputs": [
    {
     "data": {
      "text/plain": [
       "'Depression is the leading cause of disability in the world.'"
      ]
     },
     "execution_count": 6,
     "metadata": {},
     "output_type": "execute_result"
    }
   ],
   "source": [
    "english_sentences[0].text"
   ]
  },
  {
   "cell_type": "code",
   "execution_count": 7,
   "metadata": {},
   "outputs": [],
   "source": [
    "english_sentences[0].click()"
   ]
  },
  {
   "cell_type": "code",
   "execution_count": null,
   "metadata": {},
   "outputs": [],
   "source": []
  }
 ],
 "metadata": {
  "colab": {
   "collapsed_sections": [],
   "name": "ted_script_8_english_test_(phrase).ipynb",
   "provenance": []
  },
  "kernelspec": {
   "display_name": "Python 3 (ipykernel)",
   "language": "python",
   "name": "python3"
  },
  "language_info": {
   "codemirror_mode": {
    "name": "ipython",
    "version": 3
   },
   "file_extension": ".py",
   "mimetype": "text/x-python",
   "name": "python",
   "nbconvert_exporter": "python",
   "pygments_lexer": "ipython3",
   "version": "3.8.11"
  }
 },
 "nbformat": 4,
 "nbformat_minor": 4
}
